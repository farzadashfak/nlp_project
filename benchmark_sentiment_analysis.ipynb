{
 "cells": [
  {
   "cell_type": "markdown",
   "id": "e8720d00",
   "metadata": {},
   "source": [
    "# Sentiment Analysis Benchmarking\n",
    "\n",
    "Benchmark three sentiment analysis approaches:\n",
    "1. Rule-based: VADER\n",
    "2. Traditional ML: TF-IDF + Logistic Regression\n",
    "3. Deep Learning SOTA: RoBERTa\n"
   ]
  },
  {
   "cell_type": "code",
   "execution_count": 1,
   "id": "73fbd95f",
   "metadata": {},
   "outputs": [
    {
     "name": "stderr",
     "output_type": "stream",
     "text": [
      "[nltk_data] Downloading package vader_lexicon to\n",
      "[nltk_data]     C:\\Users\\farza\\AppData\\Roaming\\nltk_data...\n",
      "[nltk_data]   Package vader_lexicon is already up-to-date!\n"
     ]
    }
   ],
   "source": [
    "import os\n",
    "import pandas as pd\n",
    "import numpy as np\n",
    "import matplotlib.pyplot as plt\n",
    "from sklearn.model_selection import train_test_split\n",
    "from sklearn.feature_extraction.text import TfidfVectorizer\n",
    "from sklearn.linear_model import LogisticRegression\n",
    "from sklearn.metrics import classification_report, accuracy_score\n",
    "from nltk.sentiment.vader import SentimentIntensityAnalyzer\n",
    "import nltk\n",
    "nltk.download('vader_lexicon')\n",
    "from transformers import pipeline\n",
    "import torch\n",
    "\n",
    "def set_seed(seed: int = 42):\n",
    "    import random\n",
    "    np.random.seed(seed)\n",
    "    random.seed(seed)\n",
    "    torch.manual_seed(seed)\n",
    "    if torch.cuda.is_available():\n",
    "        torch.cuda.manual_seed_all(seed)\n",
    "\n",
    "set_seed()"
   ]
  },
  {
   "cell_type": "code",
   "execution_count": 5,
   "id": "d7780e7d",
   "metadata": {},
   "outputs": [
    {
     "name": "stdout",
     "output_type": "stream",
     "text": [
      "Using 10001 SST rows and 931 review rows; total 10,932 examples.\n"
     ]
    }
   ],
   "source": [
    "reviews_df = pd.read_csv('./Reviews.csv')\n",
    "sst_df = pd.read_csv(\n",
    "    './training.1600000.processed.noemoticon.csv',\n",
    "    names=['target','ids','date','flag','user','text'],\n",
    "    encoding='latin-1'\n",
    ")\n",
    "\n",
    "sst_df = sst_df[sst_df.target.isin([0,4])].copy()\n",
    "sst_df['sentiment'] = sst_df.target.map({0: 'negative', 4: 'positive'})\n",
    "\n",
    "reviews_df = reviews_df[['Score','Text']].dropna()\n",
    "reviews_df['sentiment'] = (\n",
    "    reviews_df.Score\n",
    "      .apply(lambda x: 'positive' if x > 3 else ('negative' if x < 3 else 'neutral'))\n",
    ")\n",
    "reviews_df = reviews_df[reviews_df.sentiment != 'neutral']\n",
    "\n",
    "n_samples = 20000\n",
    "n_sst = len(sst_df)\n",
    "n_rev = len(reviews_df)\n",
    "n_sst_sample = min(n_samples, n_sst)\n",
    "n_rev_sample = min(n_samples, n_rev)\n",
    "\n",
    "sst_sample = sst_df[['text','sentiment']].sample(\n",
    "    n=n_sst_sample, random_state=42\n",
    ")\n",
    "reviews_sample = (\n",
    "    reviews_df[['Text','sentiment']]\n",
    "      .rename(columns={'Text':'text'})\n",
    "      .sample(n=n_rev_sample, random_state=42)\n",
    ")\n",
    "\n",
    "data = pd.concat([sst_sample, reviews_sample], ignore_index=True)\n",
    "X = data.text.values\n",
    "y = data.sentiment.values\n",
    "\n",
    "X_train, X_test, y_train, y_test = train_test_split(\n",
    "    X, y, test_size=0.2, stratify=y, random_state=42\n",
    ")\n",
    "\n",
    "print(f\"Using {n_sst_sample} SST rows and {n_rev_sample} review rows; \"\n",
    "      f\"total {len(data):,} examples.\")\n"
   ]
  },
  {
   "cell_type": "code",
   "execution_count": 6,
   "id": "c40f83c5",
   "metadata": {},
   "outputs": [
    {
     "name": "stdout",
     "output_type": "stream",
     "text": [
      "VADER Accuracy: 0.6808413351623228\n",
      "              precision    recall  f1-score   support\n",
      "\n",
      "    negative       0.82      0.42      0.55      1031\n",
      "    positive       0.64      0.92      0.75      1156\n",
      "\n",
      "    accuracy                           0.68      2187\n",
      "   macro avg       0.73      0.67      0.65      2187\n",
      "weighted avg       0.72      0.68      0.66      2187\n",
      "\n"
     ]
    }
   ],
   "source": [
    "sid = SentimentIntensityAnalyzer()\n",
    "\n",
    "def vader_predict(texts):\n",
    "    preds = []\n",
    "    for t in texts:\n",
    "        score = sid.polarity_scores(t)['compound']\n",
    "        preds.append('positive' if score >= 0 else 'negative')\n",
    "    return preds\n",
    "\n",
    "vader_preds = vader_predict(X_test)\n",
    "print(\"VADER Accuracy:\", accuracy_score(y_test, vader_preds))\n",
    "print(classification_report(y_test, vader_preds))"
   ]
  },
  {
   "cell_type": "code",
   "execution_count": 7,
   "id": "103c11a6",
   "metadata": {},
   "outputs": [
    {
     "name": "stdout",
     "output_type": "stream",
     "text": [
      "ML Accuracy: 0.7521719250114312\n",
      "              precision    recall  f1-score   support\n",
      "\n",
      "    negative       0.75      0.71      0.73      1031\n",
      "    positive       0.75      0.79      0.77      1156\n",
      "\n",
      "    accuracy                           0.75      2187\n",
      "   macro avg       0.75      0.75      0.75      2187\n",
      "weighted avg       0.75      0.75      0.75      2187\n",
      "\n"
     ]
    }
   ],
   "source": [
    "vectorizer = TfidfVectorizer(max_features=10000)\n",
    "X_train_tfidf = vectorizer.fit_transform(X_train)\n",
    "X_test_tfidf = vectorizer.transform(X_test)\n",
    "\n",
    "clf = LogisticRegression(max_iter=1000)\n",
    "clf.fit(X_train_tfidf, y_train)\n",
    "ml_preds = clf.predict(X_test_tfidf)\n",
    "\n",
    "print(\"ML Accuracy:\", accuracy_score(y_test, ml_preds))\n",
    "print(classification_report(y_test, ml_preds))"
   ]
  },
  {
   "cell_type": "code",
   "execution_count": 10,
   "id": "bbb0578a",
   "metadata": {},
   "outputs": [
    {
     "name": "stderr",
     "output_type": "stream",
     "text": [
      "Device set to use cpu\n"
     ]
    },
    {
     "name": "stdout",
     "output_type": "stream",
     "text": [
      "RoBERTa Accuracy: 0.47142203932327387\n",
      "              precision    recall  f1-score   support\n",
      "\n",
      "    negative       0.47      1.00      0.64      1031\n",
      "    positive       0.00      0.00      0.00      1156\n",
      "\n",
      "    accuracy                           0.47      2187\n",
      "   macro avg       0.24      0.50      0.32      2187\n",
      "weighted avg       0.22      0.47      0.30      2187\n",
      "\n"
     ]
    },
    {
     "name": "stderr",
     "output_type": "stream",
     "text": [
      "C:\\Users\\farza\\AppData\\Local\\Programs\\Python\\Python311\\Lib\\site-packages\\sklearn\\metrics\\_classification.py:1497: UndefinedMetricWarning: Precision is ill-defined and being set to 0.0 in labels with no predicted samples. Use `zero_division` parameter to control this behavior.\n",
      "  _warn_prf(average, modifier, f\"{metric.capitalize()} is\", len(result))\n",
      "C:\\Users\\farza\\AppData\\Local\\Programs\\Python\\Python311\\Lib\\site-packages\\sklearn\\metrics\\_classification.py:1497: UndefinedMetricWarning: Precision is ill-defined and being set to 0.0 in labels with no predicted samples. Use `zero_division` parameter to control this behavior.\n",
      "  _warn_prf(average, modifier, f\"{metric.capitalize()} is\", len(result))\n",
      "C:\\Users\\farza\\AppData\\Local\\Programs\\Python\\Python311\\Lib\\site-packages\\sklearn\\metrics\\_classification.py:1497: UndefinedMetricWarning: Precision is ill-defined and being set to 0.0 in labels with no predicted samples. Use `zero_division` parameter to control this behavior.\n",
      "  _warn_prf(average, modifier, f\"{metric.capitalize()} is\", len(result))\n"
     ]
    }
   ],
   "source": [
    "from transformers import AutoTokenizer, AutoModelForSequenceClassification, pipeline\n",
    "\n",
    "device = 0 if torch.cuda.is_available() else -1\n",
    "\n",
    "tokenizer = AutoTokenizer.from_pretrained(\n",
    "    \"cardiffnlp/twitter-roberta-base-sentiment\",\n",
    "    use_fast=True\n",
    ")\n",
    "model = AutoModelForSequenceClassification.from_pretrained(\n",
    "    \"cardiffnlp/twitter-roberta-base-sentiment\"\n",
    ")\n",
    "\n",
    "roberta = pipeline(\n",
    "    \"sentiment-analysis\",\n",
    "    model=model,\n",
    "    tokenizer=tokenizer,\n",
    "    device=device\n",
    ")\n",
    "\n",
    "def roberta_predict(texts, batch_size=32):\n",
    "    preds = []\n",
    "    for i in range(0, len(texts), batch_size):\n",
    "        batch = texts[i : i + batch_size]\n",
    "        # ensure it's a Python list of strings\n",
    "        if not isinstance(batch, list):\n",
    "            batch = batch.tolist()\n",
    "\n",
    "        # enforce truncation & padding\n",
    "        results = roberta(\n",
    "            batch,\n",
    "            truncation=True,\n",
    "            padding=True,\n",
    "            max_length=512,\n",
    "        )\n",
    "        preds += [\n",
    "            \"positive\" if r[\"label\"].lower().startswith(\"positive\") else \"negative\"\n",
    "            for r in results\n",
    "        ]\n",
    "    return preds\n",
    "\n",
    "X_test_list = X_test.tolist() if hasattr(X_test, \"tolist\") else list(X_test)\n",
    "roberta_preds = roberta_predict(X_test_list)\n",
    "\n",
    "print(\"RoBERTa Accuracy:\", accuracy_score(y_test, roberta_preds))\n",
    "print(classification_report(y_test, roberta_preds))\n"
   ]
  },
  {
   "cell_type": "code",
   "execution_count": 12,
   "id": "b8fa4634",
   "metadata": {},
   "outputs": [
    {
     "data": {
      "image/png": "[encoded data removed]",
      "text/plain": [
       "<Figure size 800x500 with 1 Axes>"
      ]
     },
     "metadata": {},
     "output_type": "display_data"
    }
   ],
   "source": [
    "methods = ['VADER', 'TF-IDF+LR', 'RoBERTa']\n",
    "scores = [\n",
    "    accuracy_score(y_test, vader_preds),\n",
    "    accuracy_score(y_test, ml_preds),\n",
    "    accuracy_score(y_test, roberta_preds)\n",
    "]\n",
    "\n",
    "plt.figure(figsize=(8,5))\n",
    "plt.bar(methods, scores)\n",
    "plt.ylabel('Accuracy')\n",
    "plt.title('Sentiment Analysis Benchmark')\n",
    "plt.ylim(0, 1)\n",
    "plt.show()"
   ]
  },
  {
   "cell_type": "code",
   "execution_count": null,
   "id": "0b8ae1de-9e2e-4049-a2d7-fb901da9f810",
   "metadata": {},
   "outputs": [],
   "source": []
  }
 ],
 "metadata": {
  "kernelspec": {
   "display_name": "Python 3 (ipykernel)",
   "language": "python",
   "name": "python3"
  },
  "language_info": {
   "codemirror_mode": {
    "name": "ipython",
    "version": 3
   },
   "file_extension": ".py",
   "mimetype": "text/x-python",
   "name": "python",
   "nbconvert_exporter": "python",
   "pygments_lexer": "ipython3",
   "version": "3.11.3"
  }
 },
 "nbformat": 4,
 "nbformat_minor": 5
}
